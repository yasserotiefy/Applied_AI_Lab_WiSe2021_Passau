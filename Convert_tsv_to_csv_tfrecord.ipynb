{
 "cells": [
  {
   "cell_type": "code",
   "execution_count": null,
   "metadata": {},
   "outputs": [],
   "source": [
    "# !pip install --upgrade pip\n",
    "# !pip install tensorflow tfrecorder"
   ]
  },
  {
   "cell_type": "code",
   "execution_count": null,
   "metadata": {},
   "outputs": [],
   "source": [
    "# !pip install --upgrade avro-python3==1.9.2 tensorflow-transform==0.24"
   ]
  },
  {
   "cell_type": "code",
   "execution_count": null,
   "metadata": {},
   "outputs": [],
   "source": [
    "!pip install modin[dask] # Install all of the above\n"
   ]
  },
  {
   "cell_type": "code",
   "execution_count": null,
   "metadata": {},
   "outputs": [],
   "source": [
    "import os\n",
    "import glob\n",
    "import base64\n",
    "\n",
    "import pandas as pd\n",
    "import numpy as np\n",
    "import tfrecorder\n",
    "from tfrecorder import input_schema\n",
    "from tfrecorder import types\n",
    "\n",
    "def convert_tsv_tfrecord(path, to_dir, schema, dil='\\t'):\n",
    "\n",
    "  def labels_decode(x):\n",
    "     return np.array2string(np.frombuffer(base64.b64decode(x['class_labels']), dtype=np.int64).reshape(x['num_boxes']))\n",
    "  \n",
    "  def box_decode(x):\n",
    "    return np.array2string(np.frombuffer(base64.b64decode(x['boxes']), dtype=np.float32).reshape(x['num_boxes'], 4))\n",
    "\n",
    "  def features_decode(x):\n",
    "    return np.array2string(np.frombuffer(base64.b64decode(x['features']), dtype=np.float32).reshape(x['num_boxes'], 2048))\n",
    "\n",
    "\n",
    "  df = pd.read_csv(path, sep=dil)\n",
    "  df['split'] = 'TRAIN'\n",
    "  df['label'] = 1\n",
    "\n",
    "\n",
    "  df.tensorflow.to_tfr(to_dir,schema=schema, )"
   ]
  },
  {
   "cell_type": "code",
   "execution_count": null,
   "metadata": {},
   "outputs": [],
   "source": [
    "\n",
    "\n",
    "TRAIN_PATH_TSV = \"/root/Applied_AI_Lab_WiSe2021_Passau/data/sample/train.sample.tsv\"\n",
    "TRAIN_DIR_TFRECORDS = \"/data/sample/tfrecord/train/\"\n",
    "\n",
    "csv_schema = input_schema.Schema({\n",
    "  \n",
    "    'features': types.StringInput,\n",
    "    'class_labels': types.StringInput,\n",
    "    'boxes': types.StringInput,\n",
    "    'product_id': types.IntegerInput,\n",
    "    'image_h': types.IntegerInput,\n",
    "    'image_w': types.IntegerInput,\n",
    "    'num_boxes': types.IntegerInput,\n",
    "    'query_id': types.IntegerInput,\n",
    "    'query': types.StringInput,\n",
    "    'split': types.SplitKey,\n",
    "    'label': types.IntegerLabel,\n",
    "})\n"
   ]
  },
  {
   "cell_type": "code",
   "execution_count": null,
   "metadata": {},
   "outputs": [],
   "source": [
    "convert_tsv_tfrecord(TRAIN_PATH_TSV, TRAIN_DIR_TFRECORDS, csv_schema)"
   ]
  },
  {
   "cell_type": "markdown",
   "metadata": {},
   "source": [
    "## Convert TSV to CSV"
   ]
  },
  {
   "cell_type": "code",
   "execution_count": null,
   "metadata": {},
   "outputs": [],
   "source": [
    "# !python -m pip install \"dask[dataframe]\" --upgrade"
   ]
  },
  {
   "cell_type": "code",
   "execution_count": null,
   "metadata": {},
   "outputs": [],
   "source": [
    "import dask.dataframe as dd\n",
    "import pandas as pd\n",
    "import csv\n",
    "import base64\n",
    "\n",
    "import numpy as np"
   ]
  },
  {
   "cell_type": "code",
   "execution_count": null,
   "metadata": {},
   "outputs": [],
   "source": [
    "import csv\n",
    "df = dd.read_csv('/../home/data/train.tsv', sep='\\t', quoting=csv.QUOTE_NONE, encoding='utf-8',\n",
    "error_bad_lines=False)"
   ]
  },
  {
   "cell_type": "code",
   "execution_count": null,
   "metadata": {},
   "outputs": [],
   "source": [
    "df.to_csv('train/real/train-*.csv', index=False)"
   ]
  },
  {
   "cell_type": "code",
   "execution_count": null,
   "metadata": {},
   "outputs": [],
   "source": [
    "import csv\n",
    "df = dd.read_csv('/root/Applied_AI_Lab_WiSe2021_Passau/sample_train/train.sample.tsv', sep='\\t', quoting=csv.QUOTE_NONE, encoding='utf-8',\n",
    "error_bad_lines=False)\n",
    "df1 = dd.read_csv('/root/Applied_AI_Lab_WiSe2021_Passau/eval/valid.tsv', sep='\\t', quoting=csv.QUOTE_NONE, encoding='utf-8',\n",
    "error_bad_lines=False)\n",
    "df2 = dd.read_csv('/root/Applied_AI_Lab_WiSe2021_Passau/testA/testA.tsv', sep='\\t', quoting=csv.QUOTE_NONE, encoding='utf-8',\n",
    "error_bad_lines=False)\n",
    "df3 = dd.read_csv('/root/Applied_AI_Lab_WiSe2021_Passau/testB/testB.tsv', sep='\\t', quoting=csv.QUOTE_NONE, encoding='utf-8',\n",
    "error_bad_lines=False)"
   ]
  },
  {
   "cell_type": "code",
   "execution_count": null,
   "metadata": {},
   "outputs": [],
   "source": [
    "df.to_csv('/root/Applied_AI_Lab_WiSe2021_Passau/sample_train/real/real.csv', index=False, single_file=True)\n",
    "df1.to_csv('/root/Applied_AI_Lab_WiSe2021_Passau/eval/real/real.csv', index=False, single_file=True)\n",
    "df2.to_csv('/root/Applied_AI_Lab_WiSe2021_Passau/test/testA/real/real.csv', index=False, single_file=True)\n",
    "df3.to_csv('/root/Applied_AI_Lab_WiSe2021_Passau/test/testB/real/real.csv', index=False, single_file=True)"
   ]
  },
  {
   "cell_type": "markdown",
   "metadata": {},
   "source": [
    "### Decode base64"
   ]
  },
  {
   "cell_type": "code",
   "execution_count": null,
   "metadata": {},
   "outputs": [],
   "source": [
    "df = pd.read_csv('/root/Applied_AI_Lab_WiSe2021_Passau/sample_train/train.sample.tsv', sep='\\t', quoting=csv.QUOTE_NONE,\n",
    "error_bad_lines=False)"
   ]
  },
  {
   "cell_type": "code",
   "execution_count": null,
   "metadata": {},
   "outputs": [],
   "source": [
    "def decode_base64_boxes(x):\n",
    "    \n",
    "    return np.frombuffer(base64.b64decode(x['boxes']), dtype=np.float32).reshape(x['num_boxes'], 4)\n",
    " \n",
    "def decode_base64_features(x):\n",
    "    \n",
    "    return np.frombuffer(base64.b64decode(x['features']), dtype=np.float32).reshape(x['num_boxes'], 2048)\n",
    "\n",
    "def decode_base64_labels(x):\n",
    "    return np.frombuffer(base64.b64decode(x['class_labels']), dtype=np.int64).reshape(x['num_boxes'])\n"
   ]
  },
  {
   "cell_type": "code",
   "execution_count": null,
   "metadata": {},
   "outputs": [],
   "source": [
    "df['boxes'] = df.apply(decode_base64_boxes, axis=1)\n",
    "df['features'] = df.apply(decode_base64_features, axis=1)\n",
    "df['class_labels'] = df.apply(decode_base64_labels, axis=1)\n",
    "df.to_csv('/root/Applied_AI_Lab_WiSe2021_Passau/sample_train/real/real.csv', index=False)\n"
   ]
  },
  {
   "cell_type": "code",
   "execution_count": null,
   "metadata": {},
   "outputs": [],
   "source": []
  }
 ],
 "metadata": {
  "interpreter": {
   "hash": "4e581de9c805e48650f4a43cd86573f32766551ba6e9b578a5cb34cabfaac30f"
  },
  "kernelspec": {
   "display_name": "Python 3.7.0 64-bit ('team2_tfrecorder': pyenv)",
   "language": "python",
   "name": "python3"
  },
  "language_info": {
   "codemirror_mode": {
    "name": "ipython",
    "version": 3
   },
   "file_extension": ".py",
   "mimetype": "text/x-python",
   "name": "python",
   "nbconvert_exporter": "python",
   "pygments_lexer": "ipython3",
   "version": "3.7.0"
  },
  "orig_nbformat": 4
 },
 "nbformat": 4,
 "nbformat_minor": 2
}
