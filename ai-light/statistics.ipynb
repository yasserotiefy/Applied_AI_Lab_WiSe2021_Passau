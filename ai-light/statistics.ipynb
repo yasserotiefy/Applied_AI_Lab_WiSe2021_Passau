{
 "cells": [
  {
   "cell_type": "code",
   "execution_count": null,
   "metadata": {},
   "outputs": [],
   "source": [
    "!pip install matplotlib"
   ]
  },
  {
   "cell_type": "code",
   "execution_count": 21,
   "metadata": {},
   "outputs": [],
   "source": [
    "import pandas as pd\n",
    "import csv\n",
    "import base64\n",
    "import numpy as np\n",
    "import matplotlib.pyplot as plt"
   ]
  },
  {
   "cell_type": "code",
   "execution_count": 6,
   "metadata": {},
   "outputs": [],
   "source": [
    "cols = ['num_boxes', 'class_labels', 'query']"
   ]
  },
  {
   "cell_type": "code",
   "execution_count": 7,
   "metadata": {},
   "outputs": [],
   "source": [
    "train = pd.read_csv('data/train.tsv',sep='\\t', quoting=csv.QUOTE_NONE, usecols=cols)"
   ]
  },
  {
   "cell_type": "code",
   "execution_count": 8,
   "metadata": {},
   "outputs": [],
   "source": [
    "def get_label(path):\n",
    "    with open(path) as f:\n",
    "        lines = f.readlines()\n",
    "        label2id = {l.split('\\n')[0].split('\\t')[1]:int(l.split('\\n')[0].split('\\t')[0]) for l in lines[1:]}\n",
    "        id2label = {int(l.split('\\n')[0].split('\\t')[0]):l.split('\\n')[0].split('\\t')[1] for l in lines[1:]}\n",
    "    return label2id, id2label\n",
    "\n",
    "LABEL_PATH = 'data/multimodal_labels.txt'\n",
    "label2id, id2label = get_label(LABEL_PATH)"
   ]
  },
  {
   "cell_type": "code",
   "execution_count": 58,
   "metadata": {},
   "outputs": [
    {
     "data": {
      "text/plain": [
       "33"
      ]
     },
     "execution_count": 58,
     "metadata": {},
     "output_type": "execute_result"
    }
   ],
   "source": [
    "len(label2id)"
   ]
  },
  {
   "cell_type": "code",
   "execution_count": 39,
   "metadata": {},
   "outputs": [],
   "source": [
    "def convertLabelWord(num_boxes, label):\n",
    "    temp = np.frombuffer(base64.b64decode(label), dtype=np.int64).reshape(num_boxes)\n",
    "    return '###'.join([id2label[t] for t in temp])"
   ]
  },
  {
   "cell_type": "code",
   "execution_count": 40,
   "metadata": {},
   "outputs": [
    {
     "data": {
      "text/plain": [
       "(3000000, 5)"
      ]
     },
     "execution_count": 40,
     "metadata": {},
     "output_type": "execute_result"
    }
   ],
   "source": [
    "train.shape"
   ]
  },
  {
   "cell_type": "code",
   "execution_count": 41,
   "metadata": {},
   "outputs": [],
   "source": [
    "train['all_labels'] = train.apply(lambda x: convertLabelWord(x['num_boxes'], x['class_labels']), axis=1)\n",
    "\n",
    "train['all_query'] = train.apply(lambda x: x['query'], axis=1)"
   ]
  },
  {
   "cell_type": "code",
   "execution_count": 42,
   "metadata": {},
   "outputs": [
    {
     "data": {
      "text/html": [
       "<div>\n",
       "<style scoped>\n",
       "    .dataframe tbody tr th:only-of-type {\n",
       "        vertical-align: middle;\n",
       "    }\n",
       "\n",
       "    .dataframe tbody tr th {\n",
       "        vertical-align: top;\n",
       "    }\n",
       "\n",
       "    .dataframe thead th {\n",
       "        text-align: right;\n",
       "    }\n",
       "</style>\n",
       "<table border=\"1\" class=\"dataframe\">\n",
       "  <thead>\n",
       "    <tr style=\"text-align: right;\">\n",
       "      <th></th>\n",
       "      <th>num_boxes</th>\n",
       "      <th>class_labels</th>\n",
       "      <th>query</th>\n",
       "      <th>all_labels</th>\n",
       "      <th>all_query</th>\n",
       "    </tr>\n",
       "  </thead>\n",
       "  <tbody>\n",
       "    <tr>\n",
       "      <th>0</th>\n",
       "      <td>2</td>\n",
       "      <td>HAAAAAAAAAAcAAAAAAAAAA==</td>\n",
       "      <td>treble popular reed</td>\n",
       "      <td>others###others</td>\n",
       "      <td>treble popular reed</td>\n",
       "    </tr>\n",
       "    <tr>\n",
       "      <th>1</th>\n",
       "      <td>1</td>\n",
       "      <td>HAAAAAAAAAA=</td>\n",
       "      <td>compatible ink cartridges</td>\n",
       "      <td>others</td>\n",
       "      <td>compatible ink cartridges</td>\n",
       "    </tr>\n",
       "    <tr>\n",
       "      <th>2</th>\n",
       "      <td>1</td>\n",
       "      <td>BwAAAAAAAAA=</td>\n",
       "      <td>check new look facial cream</td>\n",
       "      <td>makeup, perfume, beauty tools and essential oils</td>\n",
       "      <td>check new look facial cream</td>\n",
       "    </tr>\n",
       "    <tr>\n",
       "      <th>3</th>\n",
       "      <td>5</td>\n",
       "      <td>HAAAAAAAAAAcAAAAAAAAABwAAAAAAAAAHAAAAAAAAAAcAA...</td>\n",
       "      <td>royal commemorative stamp</td>\n",
       "      <td>others###others###others###others###others</td>\n",
       "      <td>royal commemorative stamp</td>\n",
       "    </tr>\n",
       "    <tr>\n",
       "      <th>4</th>\n",
       "      <td>4</td>\n",
       "      <td>HAAAAAAAAAAGAAAAAAAAAAYAAAAAAAAAHAAAAAAAAAA=</td>\n",
       "      <td>calendula baby shower gel</td>\n",
       "      <td>others###snacks, nuts, liquor and tea###snacks...</td>\n",
       "      <td>calendula baby shower gel</td>\n",
       "    </tr>\n",
       "  </tbody>\n",
       "</table>\n",
       "</div>"
      ],
      "text/plain": [
       "   num_boxes                                       class_labels  \\\n",
       "0          2                           HAAAAAAAAAAcAAAAAAAAAA==   \n",
       "1          1                                       HAAAAAAAAAA=   \n",
       "2          1                                       BwAAAAAAAAA=   \n",
       "3          5  HAAAAAAAAAAcAAAAAAAAABwAAAAAAAAAHAAAAAAAAAAcAA...   \n",
       "4          4       HAAAAAAAAAAGAAAAAAAAAAYAAAAAAAAAHAAAAAAAAAA=   \n",
       "\n",
       "                         query  \\\n",
       "0          treble popular reed   \n",
       "1    compatible ink cartridges   \n",
       "2  check new look facial cream   \n",
       "3    royal commemorative stamp   \n",
       "4    calendula baby shower gel   \n",
       "\n",
       "                                          all_labels  \\\n",
       "0                                    others###others   \n",
       "1                                             others   \n",
       "2   makeup, perfume, beauty tools and essential oils   \n",
       "3         others###others###others###others###others   \n",
       "4  others###snacks, nuts, liquor and tea###snacks...   \n",
       "\n",
       "                     all_query  \n",
       "0          treble popular reed  \n",
       "1    compatible ink cartridges  \n",
       "2  check new look facial cream  \n",
       "3    royal commemorative stamp  \n",
       "4    calendula baby shower gel  "
      ]
     },
     "execution_count": 42,
     "metadata": {},
     "output_type": "execute_result"
    }
   ],
   "source": [
    "train.head()"
   ]
  },
  {
   "cell_type": "code",
   "execution_count": 70,
   "metadata": {},
   "outputs": [],
   "source": [
    "counts = train.all_labels.str.split('###', expand=True).stack().value_counts()"
   ]
  },
  {
   "cell_type": "code",
   "execution_count": 71,
   "metadata": {},
   "outputs": [
    {
     "data": {
      "text/plain": [
       "others                                                                     5187306\n",
       "shoes                                                                      1271664\n",
       "top clothes (coat, jacket, shirt, etc.)                                    1048456\n",
       "accessories (jewelry, clothing accessories, belts, hats, scarves, etc.)     812948\n",
       "human face                                                                  621413\n",
       "bottom clothes (trousers, pants, etc.)                                      519996\n",
       "toys                                                                        435073\n",
       "luggage, leather goods                                                      424099\n",
       "furniture                                                                   291699\n",
       "snacks, nuts, liquor and tea                                                262636\n",
       "makeup, perfume, beauty tools and essential oils                            199361\n",
       "skirt & dress                                                               138670\n",
       "bottle drink                                                                 50311\n",
       "digital supplies                                                             49061\n",
       "clothes (accessories, baby clothing, etc.)                                     116\n",
       "dtype: int64"
      ]
     },
     "execution_count": 71,
     "metadata": {},
     "output_type": "execute_result"
    }
   ],
   "source": [
    "counts"
   ]
  },
  {
   "cell_type": "code",
   "execution_count": 53,
   "metadata": {},
   "outputs": [],
   "source": [
    "import seaborn as sns"
   ]
  },
  {
   "cell_type": "code",
   "execution_count": 74,
   "metadata": {},
   "outputs": [],
   "source": [
    "counts_df = pd.DataFrame({'Label':np.arange(len(counts)), 'Count':counts.values})"
   ]
  },
  {
   "cell_type": "code",
   "execution_count": 75,
   "metadata": {},
   "outputs": [
    {
     "data": {
      "image/png": "[encoded data removed]",
      "text/plain": [
       "<Figure size 432x288 with 1 Axes>"
      ]
     },
     "metadata": {
      "needs_background": "light"
     },
     "output_type": "display_data"
    }
   ],
   "source": [
    "ax = sns.barplot(x='Label', y='Count', data=counts_df)"
   ]
  },
  {
   "cell_type": "code",
   "execution_count": 59,
   "metadata": {},
   "outputs": [],
   "source": [
    "train['query_len'] = train.apply(lambda x: len(x['query'].split()), axis=1)"
   ]
  },
  {
   "cell_type": "code",
   "execution_count": 60,
   "metadata": {},
   "outputs": [],
   "source": [
    "counts = train.query_len.value_counts()"
   ]
  },
  {
   "cell_type": "code",
   "execution_count": 62,
   "metadata": {},
   "outputs": [
    {
     "data": {
      "text/plain": [
       "3     982950\n",
       "4     898248\n",
       "5     464082\n",
       "2     325720\n",
       "6     211812\n",
       "7      75507\n",
       "8      24528\n",
       "1       9179\n",
       "9       6319\n",
       "10      1292\n",
       "11       280\n",
       "12        57\n",
       "13        13\n",
       "21         6\n",
       "14         4\n",
       "15         2\n",
       "16         1\n",
       "Name: query_len, dtype: int64"
      ]
     },
     "execution_count": 62,
     "metadata": {},
     "output_type": "execute_result"
    }
   ],
   "source": [
    "counts"
   ]
  },
  {
   "cell_type": "code",
   "execution_count": 66,
   "metadata": {},
   "outputs": [],
   "source": [
    "counts_df = pd.DataFrame({'Query_Length':counts.index, 'Counts':counts.values})"
   ]
  },
  {
   "cell_type": "code",
   "execution_count": 67,
   "metadata": {},
   "outputs": [
    {
     "data": {
      "text/html": [
       "<div>\n",
       "<style scoped>\n",
       "    .dataframe tbody tr th:only-of-type {\n",
       "        vertical-align: middle;\n",
       "    }\n",
       "\n",
       "    .dataframe tbody tr th {\n",
       "        vertical-align: top;\n",
       "    }\n",
       "\n",
       "    .dataframe thead th {\n",
       "        text-align: right;\n",
       "    }\n",
       "</style>\n",
       "<table border=\"1\" class=\"dataframe\">\n",
       "  <thead>\n",
       "    <tr style=\"text-align: right;\">\n",
       "      <th></th>\n",
       "      <th>Query_Length</th>\n",
       "      <th>Counts</th>\n",
       "    </tr>\n",
       "  </thead>\n",
       "  <tbody>\n",
       "    <tr>\n",
       "      <th>0</th>\n",
       "      <td>3</td>\n",
       "      <td>982950</td>\n",
       "    </tr>\n",
       "    <tr>\n",
       "      <th>1</th>\n",
       "      <td>4</td>\n",
       "      <td>898248</td>\n",
       "    </tr>\n",
       "    <tr>\n",
       "      <th>2</th>\n",
       "      <td>5</td>\n",
       "      <td>464082</td>\n",
       "    </tr>\n",
       "    <tr>\n",
       "      <th>3</th>\n",
       "      <td>2</td>\n",
       "      <td>325720</td>\n",
       "    </tr>\n",
       "    <tr>\n",
       "      <th>4</th>\n",
       "      <td>6</td>\n",
       "      <td>211812</td>\n",
       "    </tr>\n",
       "    <tr>\n",
       "      <th>5</th>\n",
       "      <td>7</td>\n",
       "      <td>75507</td>\n",
       "    </tr>\n",
       "    <tr>\n",
       "      <th>6</th>\n",
       "      <td>8</td>\n",
       "      <td>24528</td>\n",
       "    </tr>\n",
       "    <tr>\n",
       "      <th>7</th>\n",
       "      <td>1</td>\n",
       "      <td>9179</td>\n",
       "    </tr>\n",
       "    <tr>\n",
       "      <th>8</th>\n",
       "      <td>9</td>\n",
       "      <td>6319</td>\n",
       "    </tr>\n",
       "    <tr>\n",
       "      <th>9</th>\n",
       "      <td>10</td>\n",
       "      <td>1292</td>\n",
       "    </tr>\n",
       "    <tr>\n",
       "      <th>10</th>\n",
       "      <td>11</td>\n",
       "      <td>280</td>\n",
       "    </tr>\n",
       "    <tr>\n",
       "      <th>11</th>\n",
       "      <td>12</td>\n",
       "      <td>57</td>\n",
       "    </tr>\n",
       "    <tr>\n",
       "      <th>12</th>\n",
       "      <td>13</td>\n",
       "      <td>13</td>\n",
       "    </tr>\n",
       "    <tr>\n",
       "      <th>13</th>\n",
       "      <td>21</td>\n",
       "      <td>6</td>\n",
       "    </tr>\n",
       "    <tr>\n",
       "      <th>14</th>\n",
       "      <td>14</td>\n",
       "      <td>4</td>\n",
       "    </tr>\n",
       "    <tr>\n",
       "      <th>15</th>\n",
       "      <td>15</td>\n",
       "      <td>2</td>\n",
       "    </tr>\n",
       "    <tr>\n",
       "      <th>16</th>\n",
       "      <td>16</td>\n",
       "      <td>1</td>\n",
       "    </tr>\n",
       "  </tbody>\n",
       "</table>\n",
       "</div>"
      ],
      "text/plain": [
       "    Query_Length  Counts\n",
       "0              3  982950\n",
       "1              4  898248\n",
       "2              5  464082\n",
       "3              2  325720\n",
       "4              6  211812\n",
       "5              7   75507\n",
       "6              8   24528\n",
       "7              1    9179\n",
       "8              9    6319\n",
       "9             10    1292\n",
       "10            11     280\n",
       "11            12      57\n",
       "12            13      13\n",
       "13            21       6\n",
       "14            14       4\n",
       "15            15       2\n",
       "16            16       1"
      ]
     },
     "execution_count": 67,
     "metadata": {},
     "output_type": "execute_result"
    }
   ],
   "source": [
    "counts_df"
   ]
  },
  {
   "cell_type": "code",
   "execution_count": 69,
   "metadata": {},
   "outputs": [
    {
     "data": {
      "image/png": "[encoded data removed]",
      "text/plain": [
       "<Figure size 432x288 with 1 Axes>"
      ]
     },
     "metadata": {
      "needs_background": "light"
     },
     "output_type": "display_data"
    }
   ],
   "source": [
    "ax = sns.barplot(x='Query_Length', y='Counts', data=counts_df)"
   ]
  },
  {
   "cell_type": "code",
   "execution_count": null,
   "metadata": {},
   "outputs": [],
   "source": []
  }
 ],
 "metadata": {
  "interpreter": {
   "hash": "83450b56f25de64be77dfb9c02275a8d3bd2c455184a29294a81904c2d496ccf"
  },
  "kernelspec": {
   "display_name": "Python 3.7.0 64-bit ('team2_ai_light': pyenv)",
   "language": "python",
   "name": "python3"
  },
  "language_info": {
   "codemirror_mode": {
    "name": "ipython",
    "version": 3
   },
   "file_extension": ".py",
   "mimetype": "text/x-python",
   "name": "python",
   "nbconvert_exporter": "python",
   "pygments_lexer": "ipython3",
   "version": "3.7.0"
  },
  "orig_nbformat": 4
 },
 "nbformat": 4,
 "nbformat_minor": 2
}
